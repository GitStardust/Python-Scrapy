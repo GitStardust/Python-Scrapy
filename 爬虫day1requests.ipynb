{
 "cells": [
  {
   "cell_type": "code",
   "execution_count": 28,
   "metadata": {},
   "outputs": [
    {
     "data": {
      "text/plain": [
       "200"
      ]
     },
     "execution_count": 28,
     "metadata": {},
     "output_type": "execute_result"
    }
   ],
   "source": [
    "import requests\n",
    "r=requests.get('https://www.python.org')\n",
    "r.status_code"
   ]
  },
  {
   "cell_type": "code",
   "execution_count": 29,
   "metadata": {},
   "outputs": [
    {
     "data": {
      "text/plain": [
       "True"
      ]
     },
     "execution_count": 29,
     "metadata": {},
     "output_type": "execute_result"
    }
   ],
   "source": [
    "b'Python is a programming language' in r.content"
   ]
  },
  {
   "cell_type": "code",
   "execution_count": 30,
   "metadata": {},
   "outputs": [
    {
     "name": "stdout",
     "output_type": "stream",
     "text": [
      "{\n",
      "  \"args\": {}, \n",
      "  \"data\": \"\", \n",
      "  \"files\": {}, \n",
      "  \"form\": {\n",
      "    \"key1\": \"value1\", \n",
      "    \"key2\": \"value2\"\n",
      "  }, \n",
      "  \"headers\": {\n",
      "    \"Accept\": \"*/*\", \n",
      "    \"Accept-Encoding\": \"gzip, deflate\", \n",
      "    \"Content-Length\": \"23\", \n",
      "    \"Content-Type\": \"application/x-www-form-urlencoded\", \n",
      "    \"Host\": \"httpbin.org\", \n",
      "    \"User-Agent\": \"python-requests/2.19.1\"\n",
      "  }, \n",
      "  \"json\": null, \n",
      "  \"origin\": \"211.67.21.205, 211.67.21.205\", \n",
      "  \"url\": \"https://httpbin.org/post\"\n",
      "}\n",
      "\n"
     ]
    }
   ],
   "source": [
    "payload = dict(key1='value1', key2='value2')\n",
    "r = requests.post('http://httpbin.org/post', data=payload)\n",
    "print(r.text)"
   ]
  },
  {
   "cell_type": "code",
   "execution_count": 31,
   "metadata": {},
   "outputs": [
    {
     "name": "stdout",
     "output_type": "stream",
     "text": [
      "http://httpbin.org/post\n",
      "200\n"
     ]
    }
   ],
   "source": [
    "print(r.url)\n",
    "print(r.status_code)\n"
   ]
  },
  {
   "cell_type": "code",
   "execution_count": null,
   "metadata": {},
   "outputs": [],
   "source": [
    "import requests\n",
    "import re\n",
    "import csv\n",
    "\n",
    "# https://blog.csdn.net/bmjhappy/article/details/80512917 中文字符串匹配\n",
    "def movie_info(url):\n",
    "    headers = {\n",
    "     'User-Agent':\"Mozilla/5.0 (Macintosh; U; Intel Mac OS X 10_6_8; en-us) AppleWebKit/534.50 (KHTML, like Gecko) Version/5.1 Safari/534.50\"\n",
    "    }\n",
    "\n",
    "    res = requests.get(url, headers=headers)\n",
    "    ranks = re.findall(' <em class=\"\">(.*?)</em>',res.text, re.S)\n",
    "    '''\n",
    "    .*是指任何字符0个或多个，.?是指任何字符0个或1个.\n",
    "    .*具有贪婪的性质，首先匹配到不能匹配为止，根据后面的正则表达式，会进行回溯。\n",
    "    .*？则相反，一个匹配以后，就往下进行，所以不会进行回溯，具有最小匹配的性质。\n",
    "    ? 匹配0或1个正好在它之前的那个字符。注意：这个元字符不是所有的软件都支持的。\n",
    "    ？表示非贪婪模式，即为匹配最近字符 如果不加?就是贪婪模式a.*bc 可以匹配  abcbcbc\n",
    "    '''\n",
    "    \n",
    "    names = re.findall('<span class=\"title\">([\\u4e00-\\u9fa5]+)</span>',res.text, re.S)\n",
    "    '''\n",
    "    “\\u4e00”和“\\u9fa5”是unicode编码，并且正好是中文编码的开始和结束的两个值，所以这个正则表达式可以用来判断字符串中是否包含中文。\n",
    "    '''\n",
    "    countries = re.findall('&nbsp;/&nbsp;([\\u4e00-\\u9fa5]+)&nbsp;/&nbsp;', res.text, re.S)\n",
    "    text = re.sub('导演: ','',res.text)  # ：中文标点符号\n",
    "    #print(text)导演: \n",
    "    directors = re.findall('<p class=\"\">(.*?)&nbsp;&nbsp;', text, re.S)\n",
    "    scores = re.findall('<span class=\"rating_num\" property=\"v:average\">(.*?)</span>',res.text,re.S)\n",
    "    \n",
    "    for rank,name,country,director,score in zip(ranks,names,countries,directors,scores):\n",
    "        writer.writerow([rank,name,country,director,score])\n",
    "        print(rank,name,country,director,score)\n",
    "\n",
    "if __name__ == '__main__':\n",
    "\n",
    "    file = open('E:/2019/Scrapy/movie.csv','w+',encoding='utf-8',newline='')\n",
    "    writer = csv.writer(file)\n",
    "    writer.writerow(['rank','name','country','director','score'])\n",
    "    print(\"ok!\")\n",
    "    for i in range(0,250,25):\n",
    "        url = 'https://movie.douban.com/top250?start={}&filter='.format(i)\n",
    "        movie_info(url)"
   ]
  },
  {
   "cell_type": "code",
   "execution_count": 40,
   "metadata": {},
   "outputs": [
    {
     "name": "stdout",
     "output_type": "stream",
     "text": [
      "Help on class zip in module builtins:\n",
      "\n",
      "class zip(object)\n",
      " |  zip(iter1 [,iter2 [...]]) --> zip object\n",
      " |  \n",
      " |  Return a zip object whose .__next__() method returns a tuple where\n",
      " |  the i-th element comes from the i-th iterable argument.  The .__next__()\n",
      " |  method continues until the shortest iterable in the argument sequence\n",
      " |  is exhausted and then it raises StopIteration.\n",
      " |  \n",
      " |  Methods defined here:\n",
      " |  \n",
      " |  __getattribute__(self, name, /)\n",
      " |      Return getattr(self, name).\n",
      " |  \n",
      " |  __iter__(self, /)\n",
      " |      Implement iter(self).\n",
      " |  \n",
      " |  __next__(self, /)\n",
      " |      Implement next(self).\n",
      " |  \n",
      " |  __reduce__(...)\n",
      " |      Return state information for pickling.\n",
      " |  \n",
      " |  ----------------------------------------------------------------------\n",
      " |  Static methods defined here:\n",
      " |  \n",
      " |  __new__(*args, **kwargs) from builtins.type\n",
      " |      Create and return a new object.  See help(type) for accurate signature.\n",
      "\n"
     ]
    }
   ],
   "source": [
    "help(zip)"
   ]
  },
  {
   "cell_type": "code",
   "execution_count": 46,
   "metadata": {},
   "outputs": [
    {
     "name": "stdout",
     "output_type": "stream",
     "text": [
      "['https://movie.douban.com/top250?start=0', 'https://movie.douban.com/top250?start=25', 'https://movie.douban.com/top250?start=50', 'https://movie.douban.com/top250?start=75', 'https://movie.douban.com/top250?start=100', 'https://movie.douban.com/top250?start=125', 'https://movie.douban.com/top250?start=150', 'https://movie.douban.com/top250?start=175', 'https://movie.douban.com/top250?start=200', 'https://movie.douban.com/top250?start=225']\n"
     ]
    }
   ],
   "source": [
    "url = ['https://movie.douban.com/top250?start={}'.format(str(i)) for i in range(0,250,25)]\n",
    "print(url)"
   ]
  }
 ],
 "metadata": {
  "kernelspec": {
   "display_name": "Python 3",
   "language": "python",
   "name": "python3"
  },
  "language_info": {
   "codemirror_mode": {
    "name": "ipython",
    "version": 3
   },
   "file_extension": ".py",
   "mimetype": "text/x-python",
   "name": "python",
   "nbconvert_exporter": "python",
   "pygments_lexer": "ipython3",
   "version": "3.7.0"
  }
 },
 "nbformat": 4,
 "nbformat_minor": 2
}
